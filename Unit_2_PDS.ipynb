{
  "nbformat": 4,
  "nbformat_minor": 0,
  "metadata": {
    "colab": {
      "provenance": [],
      "authorship_tag": "ABX9TyOYnoYueahmjNQbqfiUoJF1",
      "include_colab_link": true
    },
    "kernelspec": {
      "name": "python3",
      "display_name": "Python 3"
    },
    "language_info": {
      "name": "python"
    }
  },
  "cells": [
    {
      "cell_type": "markdown",
      "metadata": {
        "id": "view-in-github",
        "colab_type": "text"
      },
      "source": [
        "<a href=\"https://colab.research.google.com/github/xoAyus/Python-for-Data-Science/blob/main/Unit_2_PDS.ipynb\" target=\"_parent\"><img src=\"https://colab.research.google.com/assets/colab-badge.svg\" alt=\"Open In Colab\"/></a>"
      ]
    },
    {
      "cell_type": "markdown",
      "source": [
        "## RegEx Module"
      ],
      "metadata": {
        "id": "upXXmFGI4ExU"
      }
    },
    {
      "cell_type": "code",
      "execution_count": 1,
      "metadata": {
        "colab": {
          "base_uri": "https://localhost:8080/"
        },
        "id": "tg5Heb-_391-",
        "outputId": "8413ac91-b42a-4c63-b57a-25d31e13ab6e"
      },
      "outputs": [
        {
          "output_type": "stream",
          "name": "stdout",
          "text": [
            "YES! We have a match!\n"
          ]
        }
      ],
      "source": [
        "import re\n",
        "txt=\"The rain in Spain\"\n",
        "x=re.search(\"^The.*Spain$\",txt)\n",
        "if x:\n",
        "    print(\"YES! We have a match!\")\n",
        "else:\n",
        "    print(\"No match\")"
      ]
    },
    {
      "cell_type": "code",
      "source": [
        "import re\n",
        "txt=\"The rain in Spain\"\n",
        "x=re.findall(\"Portugal\",txt)\n",
        "print(x)"
      ],
      "metadata": {
        "colab": {
          "base_uri": "https://localhost:8080/"
        },
        "id": "TrRRalnG4Ufx",
        "outputId": "0030627c-5708-4d5e-fcd4-189c860cb331"
      },
      "execution_count": 3,
      "outputs": [
        {
          "output_type": "stream",
          "name": "stdout",
          "text": [
            "[]\n"
          ]
        }
      ]
    },
    {
      "cell_type": "code",
      "source": [
        "import re\n",
        "txt=\"The rain in Spain\"\n",
        "x=re.search(\"\\s\",txt)\n",
        "print(\"The first white-space character is located in position:\",x.start())"
      ],
      "metadata": {
        "colab": {
          "base_uri": "https://localhost:8080/"
        },
        "id": "pMBPSqrO66uW",
        "outputId": "e4206e47-db5d-46f3-9295-400594a48c58"
      },
      "execution_count": 6,
      "outputs": [
        {
          "output_type": "stream",
          "name": "stdout",
          "text": [
            "The first white-space character is located in position: 3\n"
          ]
        }
      ]
    },
    {
      "cell_type": "code",
      "source": [
        "import re\n",
        "text = \"The cat sat on the mat. The dog barked at the cat. Cats and dogs live in harmony.\"\n",
        "pattern1 = r\"(cat|dog)\"\n",
        "matches1 = re.findall(pattern1, text, re.IGNORECASE)\n",
        "print(\"Occurrences of 'cat' or 'dog':\", matches1)\n",
        "pattern2 = r\"\\b\\w{3}\\b\"\n",
        "matches2 = re.findall(pattern2, text)\n",
        "print(\"Words starting with 'c' and having 3 letters:\", matches2)\n",
        "\n",
        "x=re.search(\"\\s\",text)\n",
        "print(\"The first white-space character is located in position:\",x.start())\n",
        "txt2=re.split(\"\\s\",txt)\n",
        "print(txt2)"
      ],
      "metadata": {
        "colab": {
          "base_uri": "https://localhost:8080/"
        },
        "id": "tRhrFfBG5RXp",
        "outputId": "49ad08a5-e24a-4339-f7c1-655516ff5405"
      },
      "execution_count": 14,
      "outputs": [
        {
          "output_type": "stream",
          "name": "stdout",
          "text": [
            "Occurrences of 'cat' or 'dog': ['cat', 'dog', 'cat', 'Cat', 'dog']\n",
            "Words starting with 'c' and having 3 letters: ['The', 'cat', 'sat', 'the', 'mat', 'The', 'dog', 'the', 'cat', 'and']\n",
            "The first white-space character is located in position: 3\n",
            "['The', 'rain', 'in', 'Spain']\n"
          ]
        }
      ]
    },
    {
      "cell_type": "code",
      "source": [
        "import re\n",
        "txt=\"The rain in Spain\"\n",
        "x=re.search(r\"\\bS\\w+\",txt)\n",
        "print(x.span())\n",
        "print(x.group())\n",
        "print(x.string)"
      ],
      "metadata": {
        "colab": {
          "base_uri": "https://localhost:8080/"
        },
        "id": "wHcPNI55CPpW",
        "outputId": "e7a4a4c7-68a7-4040-d21c-a70478bf9b3b"
      },
      "execution_count": 18,
      "outputs": [
        {
          "output_type": "stream",
          "name": "stdout",
          "text": [
            "(12, 17)\n",
            "Spain\n",
            "The rain in Spain\n"
          ]
        }
      ]
    },
    {
      "cell_type": "code",
      "source": [
        "import re\n",
        "text = \"\"\"\n",
        "Contact us at support@example.com, sales@company.org, or admin@website.net.\n",
        "For more information, visit www.example.com.\n",
        "\"\"\"\n",
        "x=re.search(\"\\s\",text)\n",
        "print(\"The first white-space character is located in position:\",x.start())\n",
        "text2=re.split(\"\\s\",text)\n",
        "print(text2)"
      ],
      "metadata": {
        "colab": {
          "base_uri": "https://localhost:8080/"
        },
        "id": "W8pjX75aCUbx",
        "outputId": "65194707-ebbc-4ef5-f921-397b7a1ba92c"
      },
      "execution_count": 19,
      "outputs": [
        {
          "output_type": "stream",
          "name": "stdout",
          "text": [
            "The first white-space character is located in position: 0\n",
            "['', 'Contact', 'us', 'at', 'support@example.com,', 'sales@company.org,', 'or', 'admin@website.net.', 'For', 'more', 'information,', 'visit', 'www.example.com.', '']\n"
          ]
        }
      ]
    },
    {
      "cell_type": "code",
      "source": [],
      "metadata": {
        "id": "hA_vWlh6FWZo"
      },
      "execution_count": null,
      "outputs": []
    }
  ]
}